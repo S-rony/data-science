{
 "cells": [
  {
   "cell_type": "code",
   "execution_count": 3,
   "id": "44286a2f",
   "metadata": {},
   "outputs": [],
   "source": [
    "import numpy as np"
   ]
  },
  {
   "cell_type": "code",
   "execution_count": 6,
   "id": "e9aa3279",
   "metadata": {},
   "outputs": [],
   "source": [
    "data = np.loadtxt(r\"C:\\\\Users\\soubhik sinha\\Documents\\data science 2022 revise\\Linear Regression\\data.csv\", delimiter = ',')"
   ]
  },
  {
   "cell_type": "code",
   "execution_count": 11,
   "id": "92d5a526",
   "metadata": {},
   "outputs": [],
   "source": [
    "x = data[:, 0]\n",
    "y = data[:, 1]\n"
   ]
  },
  {
   "cell_type": "code",
   "execution_count": 12,
   "id": "33918cdb",
   "metadata": {},
   "outputs": [
    {
     "data": {
      "text/plain": [
       "(100,)"
      ]
     },
     "execution_count": 12,
     "metadata": {},
     "output_type": "execute_result"
    }
   ],
   "source": [
    "x.shape"
   ]
  },
  {
   "cell_type": "code",
   "execution_count": 14,
   "id": "24cc7f17",
   "metadata": {},
   "outputs": [
    {
     "data": {
      "text/plain": [
       "(70,)"
      ]
     },
     "execution_count": 14,
     "metadata": {},
     "output_type": "execute_result"
    }
   ],
   "source": [
    "from sklearn import model_selection\n",
    "X_train,X_test,Y_train,Y_test = model_selection.train_test_split(x,y,test_size = 0.3)\n",
    "X_train.shape"
   ]
  },
  {
   "cell_type": "code",
   "execution_count": 22,
   "id": "ccefa952",
   "metadata": {},
   "outputs": [],
   "source": [
    "def fit(X_train,Y_train):\n",
    "    num = (X_train*Y_train).mean() - X_train.mean() * Y_train.mean()\n",
    "    den = (X_train**2).mean() - X_train.mean()**2\n",
    "    m = num/den\n",
    "    c = Y_train.mean() - m * X_train.mean()\n",
    "    return m,c\n"
   ]
  },
  {
   "cell_type": "code",
   "execution_count": 31,
   "id": "c073e095",
   "metadata": {},
   "outputs": [],
   "source": [
    "def predict(x,m,c):\n",
    "    return m * x + c\n",
    "def score(y_truth,y_pred):\n",
    "    u = ((y_truth - y_pred)**2).sum()\n",
    "    v = ((y_truth - y_truth.mean())**2).sum()\n",
    "    return 1 - u/v\n",
    "def cost(x,y,m,c):\n",
    "    return((y - m * c )**2).mean()"
   ]
  },
  {
   "cell_type": "code",
   "execution_count": 32,
   "id": "ccde48c6",
   "metadata": {},
   "outputs": [
    {
     "name": "stdout",
     "output_type": "stream",
     "text": [
      "Test Score:  0.5375406505478852\n",
      "Train Score 0.5910525148315929\n",
      "M, c  1.3113729594854877 8.54415451092818\n",
      "Cost on trainind data 3754.065858859334\n"
     ]
    }
   ],
   "source": [
    "m, c = fit(X_train,Y_train)\n",
    "# test data\n",
    "y_test_pred = predict(X_test,m,c)\n",
    "print('Test Score: ', score(Y_test,y_test_pred))\n",
    "\n",
    "#train data\n",
    "y_train_pred = predict(X_train,m,c)\n",
    "print('Train Score', score(Y_train,y_train_pred))\n",
    "print('M, c ', m,c)\n",
    "print('Cost on trainind data', cost(X_train,Y_train,m,c))"
   ]
  },
  {
   "cell_type": "code",
   "execution_count": null,
   "id": "c1105c75",
   "metadata": {},
   "outputs": [],
   "source": [
    "\n",
    "    "
   ]
  },
  {
   "cell_type": "code",
   "execution_count": null,
   "id": "75c61ed3",
   "metadata": {},
   "outputs": [],
   "source": []
  }
 ],
 "metadata": {
  "kernelspec": {
   "display_name": "Python 3",
   "language": "python",
   "name": "python3"
  },
  "language_info": {
   "codemirror_mode": {
    "name": "ipython",
    "version": 3
   },
   "file_extension": ".py",
   "mimetype": "text/x-python",
   "name": "python",
   "nbconvert_exporter": "python",
   "pygments_lexer": "ipython3",
   "version": "3.8.8"
  }
 },
 "nbformat": 4,
 "nbformat_minor": 5
}
