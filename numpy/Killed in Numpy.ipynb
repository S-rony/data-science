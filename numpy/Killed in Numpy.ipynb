{
 "cells": [
  {
   "cell_type": "markdown",
   "id": "03524dd8",
   "metadata": {},
   "source": [
    "killed in india"
   ]
  },
  {
   "cell_type": "code",
   "execution_count": 23,
   "id": "399802bc",
   "metadata": {},
   "outputs": [
    {
     "name": "stdout",
     "output_type": "stream",
     "text": [
      "1167.0\n",
      "51372.0\n"
     ]
    }
   ],
   "source": [
    "import numpy as np\n",
    "import csv\n",
    "\n",
    "file_obj = open(\"C:\\\\Users\\soubhik sinha\\Documents\\data science 2022 revise\\working with files\\year2017.csv\", encoding = 'utf-8')\n",
    "data = csv.DictReader(file_obj,skipinitialspace = True)\n",
    "killed = []\n",
    "wounded = []\n",
    "country = []\n",
    "\n",
    "for row in data:\n",
    "    killed.append(row[\"Killed\"])\n",
    "    wounded.append(row[\"Wounded\"])\n",
    "    country.append(row[\"Country\"])\n",
    "\n",
    "np_killed = np.array(killed)\n",
    "np_wounded = np.array(wounded)\n",
    "np_country = np.array(country)\n",
    "\n",
    "np_killed[np_killed == ''] = '0.0'\n",
    "np_wounded[np_wounded == ''] = '0.0'\n",
    "\n",
    "np_killed = np.array(np_killed, dtype = float)\n",
    "np_wounded = np.array(np_wounded,dtype = float)\n",
    "\n",
    "killed_wounded = np_killed + np_wounded\n",
    "\n",
    "bool_arr = np_country == 'India'\n",
    "ans = killed_wounded[bool_arr]\n",
    "print(np.sum(ans))\n",
    "print(np.sum(killed_wounded))"
   ]
  },
  {
   "cell_type": "markdown",
   "id": "f670ea32",
   "metadata": {},
   "source": [
    "Killed USA"
   ]
  },
  {
   "cell_type": "code",
   "execution_count": 21,
   "id": "53007192",
   "metadata": {
    "scrolled": false
   },
   "outputs": [
    {
     "name": "stdout",
     "output_type": "stream",
     "text": [
      "0\n",
      "5\n",
      "0\n",
      "0\n",
      "0\n",
      "0\n",
      "0\n",
      "1\n",
      "0\n",
      "0\n",
      "1\n",
      "0\n",
      "0\n",
      "0\n",
      "0\n",
      "0\n",
      "0\n",
      "1\n",
      "0\n",
      "0\n",
      "1\n",
      "3\n",
      "0\n",
      "0\n",
      "0\n",
      "0\n",
      "0\n",
      "2\n",
      "0\n",
      "1\n",
      "2\n",
      "0\n",
      "0\n",
      "0\n",
      "0\n",
      "0\n",
      "1\n",
      "0\n",
      "0\n",
      "2\n",
      "0\n",
      "0\n",
      "0\n",
      "0\n",
      "0\n",
      "0\n",
      "1\n",
      "0\n",
      "0\n",
      "1\n",
      "1\n",
      "1\n",
      "59\n",
      "0\n",
      "0\n",
      "0\n",
      "0\n",
      "8\n",
      "0\n",
      "0\n",
      "0\n",
      "3\n",
      "0\n",
      "0\n",
      "1\n"
     ]
    }
   ],
   "source": [
    "import numpy as np\n",
    "import csv\n",
    "file_obj = open(\"C:\\\\Users\\soubhik sinha\\Documents\\data science 2022 revise\\working with files\\year2017.csv\", encoding = 'utf-8')\n",
    "data = csv.DictReader(file_obj,skipinitialspace = True)\n",
    "\n",
    "country = []\n",
    "killed = []\n",
    "wounded = []\n",
    "\n",
    "for row in data:\n",
    "    wounded.append(row[\"Wounded\"])\n",
    "    killed.append(row[\"Killed\"])\n",
    "    country.append(row[\"Country\"])\n",
    "    \n",
    "np_country = np.array(country)\n",
    "np_killed = np.array(killed)\n",
    "# np_wounded = np.array(wounded)\n",
    "\n",
    "np_killed[np_killed == ''] = '0.0'\n",
    "# np_wounded[np_wounded == ''] = '0.0'\n",
    "us_bool = np_country == 'United States'\n",
    "\n",
    "np_killed = np.array(np_killed,dtype = float)\n",
    "np_killed = np.array(np_killed,dtype = int)\n",
    "\n",
    "# np_wounded = np.array(np_wounded,dtype = float)\n",
    "\n",
    "# np_killed_wounded = np_killed+np_wounded\n",
    "# np_us_killed = np_killed_wounded[us_bool]\n",
    "np_us_killed = np_killed[us_bool]\n",
    "for row in np_us_killed:\n",
    "    print(row)\n",
    "\n",
    "    \n"
   ]
  },
  {
   "cell_type": "markdown",
   "id": "eabf08c1",
   "metadata": {},
   "source": [
    "Total Killed in USA"
   ]
  },
  {
   "cell_type": "code",
   "execution_count": 43,
   "id": "a0f2b5fe",
   "metadata": {},
   "outputs": [
    {
     "name": "stdout",
     "output_type": "stream",
     "text": [
      "3771\n"
     ]
    }
   ],
   "source": [
    "## Open and read data file as specified in the question\n",
    "## Print the required output in given format\n",
    "import numpy as np\n",
    "import csv\n",
    "file_obj = open(r'C:\\\\Users\\\\soubhik sinha\\Documents\\data science 2022 revise\\working with files\\terrorismData (1).csv', encoding = 'utf-8')\n",
    "data = csv.DictReader(file_obj,skipinitialspace = True)\n",
    "\n",
    "country = []\n",
    "killed = []\n",
    "wounded = []\n",
    "\n",
    "for row in data:\n",
    "    wounded.append(row[\"Wounded\"])\n",
    "    killed.append(row[\"Killed\"])\n",
    "    country.append(row[\"Country\"])\n",
    "    \n",
    "np_country = np.array(country)\n",
    "np_killed = np.array(killed)\n",
    "# np_wounded = np.array(wounded)\n",
    "\n",
    "np_killed[np_killed == ''] = '0.0'\n",
    "# np_wounded[np_wounded == ''] = '0.0'\n",
    "us_bool = np_country == 'United States'\n",
    "\n",
    "np_killed = np.array(np_killed,dtype = float)\n",
    "np_killed = np.array(np_killed,dtype = int)\n",
    "# np_wounded = np.array(np_wounded,dtype = float)\n",
    "\n",
    "# np_killed_wounded = np_killed+np_wounded\n",
    "\n",
    "# np_us_killed = np_killed_wounded[us_bool]\n",
    "np_us_killed = np_killed[us_bool]\n",
    "print(sum(np_us_killed))\n",
    "# for row in np_us_killed:\n",
    "#     print(row)\n",
    "\n",
    "    \n",
    "\n"
   ]
  },
  {
   "cell_type": "code",
   "execution_count": null,
   "id": "19935df3",
   "metadata": {},
   "outputs": [],
   "source": []
  },
  {
   "cell_type": "code",
   "execution_count": 75,
   "id": "7fe89567",
   "metadata": {},
   "outputs": [
    {
     "name": "stdout",
     "output_type": "stream",
     "text": [
      "66330\n"
     ]
    }
   ],
   "source": []
  },
  {
   "cell_type": "markdown",
   "id": "a2acf870",
   "metadata": {},
   "source": []
  },
  {
   "cell_type": "code",
   "execution_count": 72,
   "id": "0bf3c263",
   "metadata": {},
   "outputs": [
    {
     "name": "stdout",
     "output_type": "stream",
     "text": [
      "14571\n"
     ]
    }
   ],
   "source": [
    "\\"
   ]
  },
  {
   "cell_type": "code",
   "execution_count": null,
   "id": "671e5a36",
   "metadata": {},
   "outputs": [],
   "source": []
  }
 ],
 "metadata": {
  "kernelspec": {
   "display_name": "Python 3",
   "language": "python",
   "name": "python3"
  },
  "language_info": {
   "codemirror_mode": {
    "name": "ipython",
    "version": 3
   },
   "file_extension": ".py",
   "mimetype": "text/x-python",
   "name": "python",
   "nbconvert_exporter": "python",
   "pygments_lexer": "ipython3",
   "version": "3.8.8"
  }
 },
 "nbformat": 4,
 "nbformat_minor": 5
}
