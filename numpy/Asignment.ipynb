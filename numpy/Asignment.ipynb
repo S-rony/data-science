{
 "cells": [
  {
   "cell_type": "markdown",
   "id": "73bef30e",
   "metadata": {},
   "source": [
    "Terrorism Date"
   ]
  },
  {
   "cell_type": "code",
   "execution_count": 1,
   "id": "96112787",
   "metadata": {},
   "outputs": [
    {
     "name": "stdout",
     "output_type": "stream",
     "text": [
      "66330\n"
     ]
    }
   ],
   "source": [
    "import numpy as np\n",
    "import csv\n",
    "file_obj = open(r'C:\\\\Users\\\\soubhik sinha\\Documents\\data science 2022 revise\\working with files\\terrorismData (1).csv', encoding = 'utf-8')\n",
    "data = csv.DictReader(file_obj,skipinitialspace = True)\n",
    "date = []\n",
    "no_of_attack = []\n",
    "count = 0\n",
    "for row in data:\n",
    "\n",
    "    date.append(row['Day'])\n",
    "    \n",
    "np_date= np.array(date)\n",
    "np_date[np_date == ''] == '0.0'\n",
    "\n",
    "np_date  = np.array(np_date, dtype = float)\n",
    "np_date = np.array(np_date, dtype = int)\n",
    "\n",
    "for row in np_date:\n",
    "    if (row >= 10) and (row <= 20):\n",
    "        count+=1\n",
    "print(count)\n",
    "        \n",
    "\n",
    "    "
   ]
  },
  {
   "cell_type": "markdown",
   "id": "7e8cb608",
   "metadata": {},
   "source": [
    "Terrorism Day"
   ]
  },
  {
   "cell_type": "code",
   "execution_count": 2,
   "id": "ee43f0c0",
   "metadata": {},
   "outputs": [
    {
     "name": "stdout",
     "output_type": "stream",
     "text": [
      "271\n"
     ]
    }
   ],
   "source": [
    "import numpy as np\n",
    "import csv\n",
    "file_obj = open(r'C:\\\\Users\\\\soubhik sinha\\Documents\\data science 2022 revise\\working with files\\terrorismData (1).csv', encoding = 'utf-8')\n",
    "data = csv.DictReader(file_obj, skipinitialspace = True)\n",
    "\n",
    "\n",
    "day = 0\n",
    "for row in data:\n",
    "#     print(row)\n",
    "    if row['Year'] =='2010' and row['Month'] == '1' and row['Day'] != '0':\n",
    "        day+= 1\n",
    "print(day)\n",
    "\n",
    "# year month Day"
   ]
  },
  {
   "cell_type": "markdown",
   "id": "36a71849",
   "metadata": {},
   "source": [
    "Terror casualty attack"
   ]
  },
  {
   "cell_type": "code",
   "execution_count": 23,
   "id": "444d6f29",
   "metadata": {},
   "outputs": [
    {
     "name": "stdout",
     "output_type": "stream",
     "text": [
      "22 Kargil District Separatists\n"
     ]
    }
   ],
   "source": [
    "import numpy as np\n",
    "import csv\n",
    "file_obj = open(r'C:\\\\Users\\\\soubhik sinha\\Documents\\data science 2022 revise\\working with files\\terrorismData (1).csv',encoding = 'utf-8')\n",
    "data = csv.DictReader(file_obj, skipinitialspace = True)\n",
    "\n",
    "killed = []\n",
    "wounded = []\n",
    "casualty = []\n",
    "city = []\n",
    "terroristGroup = []\n",
    "\n",
    "for row in data:\n",
    "    if row['Year'] == '1999' and row['State'] == 'Jammu and Kashmir':\n",
    "        if row['Month'] == '5' or row['Month'] == '6' and row[\"Month\"] == '7':\n",
    "            if row['Killed'] == '':\n",
    "                row['Killed'] = '0.0'\n",
    "            if row['Wounded'] == '':\n",
    "                row['Wounded'] = '0.0'\n",
    "            if row['City'] != 'Unknown' and row['Group'] != 'Unknown':\n",
    "                casualty.append(int(float(row['Killed'])) + int(float(row['Wounded'])))\n",
    "                city.append(row['City'])\n",
    "                terroristGroup.append(row['Group'])\n",
    "i = casualty.index(max(casualty))\n",
    "print(casualty[i],city[i],terroristGroup[i])\n",
    "                                \n",
    "                                                                \n",
    "                                                                          \n",
    "                \n",
    "                                                                              \n",
    "                \n",
    "    \n",
    "    \n",
    "    \n",
    "    \n",
    "    \n",
    "#     killed.append(row['Killed'])\n",
    "#     wounded.append(row['Wounded'])\n",
    "    \n",
    "# np_killed = np.array(killed)\n",
    "# np_wounded = np.array(wounded)\n",
    "\n",
    "# np_killed[np_killed == ''] = '0.0'\n",
    "# np_wounded[np_wounded == ''] = '0.0'\n",
    "\n",
    "# np_killed = np.array(np_killed,dtype = float)\n",
    "# np_killed = np.array(np_killed,dtype = int)\n",
    "# np_wounded = np.array(np_wounded, dtype = float)\n",
    "# np_wounded = np.array(np_wounded, dtype = int)\n",
    "# casualty = np_killed + np_wounded\n",
    "\n",
    "\n",
    "    \n",
    "    "
   ]
  },
  {
   "cell_type": "markdown",
   "id": "4d98a52f",
   "metadata": {},
   "source": [
    "terror casualty red"
   ]
  },
  {
   "cell_type": "code",
   "execution_count": 53,
   "id": "43f5822c",
   "metadata": {},
   "outputs": [
    {
     "name": "stdout",
     "output_type": "stream",
     "text": [
      "5628\n"
     ]
    }
   ],
   "source": [
    "import numpy as np\n",
    "import csv\n",
    "file_obj = open(r'C:\\\\Users\\\\soubhik sinha\\Documents\\data science 2022 revise\\working with files\\terrorismData (1).csv', encoding = 'utf-8')\n",
    "data = csv.DictReader(file_obj,skipinitialspace = True)\n",
    "casualty = []\n",
    "for row in data:\n",
    "    if row['State'] == 'Jharkhand' or row['State'] == 'Odisha' or row['State'] == 'Andhra Pradesh' or row['State'] == 'Chhattisgarh':\n",
    "        if row['Killed'] == '':\n",
    "            row['Killed'] = '0.0'\n",
    "        if row['Wounded'] == '':\n",
    "            row['Wounded'] = '0.0'\n",
    "        casualty.append(int(float(row['Killed'])) + int(float(row['Wounded'])))\n",
    "print(sum(casualty))\n",
    "        \n",
    "   \n"
   ]
  },
  {
   "cell_type": "markdown",
   "id": "0cec085e",
   "metadata": {},
   "source": [
    "Terror City Casualty"
   ]
  },
  {
   "cell_type": "code",
   "execution_count": 85,
   "id": "4da741a4",
   "metadata": {},
   "outputs": [
    {
     "name": "stdout",
     "output_type": "stream",
     "text": [
      "Srinagar 3134\n",
      "New Delhi 2095\n",
      "Mumbai 2016\n",
      "Jammu 1119\n",
      "Guwahati 822\n"
     ]
    }
   ],
   "source": [
    "import numpy as np\n",
    "import csv\n",
    "file_obj = open(r'C:\\\\Users\\\\soubhik sinha\\Documents\\data science 2022 revise\\working with files\\terrorismData (1).csv', encoding ='utf-8')\n",
    "data = csv.DictReader(file_obj, skipinitialspace = True)\n",
    "casualty = []\n",
    "city = []\n",
    "for row in data:\n",
    "    \n",
    "    if row['Country'] == 'India' and row['City'] != 'Unknown':\n",
    "        if row['Killed'] == '':\n",
    "            row['Killed'] = '0.0'\n",
    "        if row['Wounded'] == '':\n",
    "            row['Wounded'] = '0.0'\n",
    "            \n",
    "        casualty.append(int(float(row['Killed'])) + int(float(row[\"Wounded\"])))\n",
    "        city.append(row['City'])\n",
    "d = {}        \n",
    "for i in range(len(city)):\n",
    "    if city[i] in d:\n",
    "        d[city[i]] = d[city[i]] + casualty[i]\n",
    "    else:\n",
    "        d[city[i]] = casualty[i]\n",
    "\n",
    "d = sorted(d.items(), key = lambda x:x[1], reverse = True)   \n",
    "for i in range(5):\n",
    "    print(*d[i])\n",
    "# print max five city and casualty \n",
    "        \n",
    "        "
   ]
  },
  {
   "cell_type": "markdown",
   "id": "58c00549",
   "metadata": {},
   "source": [
    "Terrorism FrequentDay\n"
   ]
  },
  {
   "cell_type": "code",
   "execution_count": 6,
   "id": "9e4d1ca3",
   "metadata": {},
   "outputs": [
    {
     "name": "stdout",
     "output_type": "stream",
     "text": [
      "15 6500\n"
     ]
    }
   ],
   "source": [
    "import numpy as np\n",
    "import csv\n",
    "file_obj = open(r'C:\\\\Users\\\\soubhik sinha\\Documents\\data science 2022 revise\\working with files\\terrorismData (1).csv',encoding = 'utf-8')\n",
    "data = csv.DictReader(file_obj, skipinitialspace = True)\n",
    "day = []\n",
    "d = {}\n",
    "for row in data:\n",
    "    if row['Day'] != 0:\n",
    "        key = row['Day']\n",
    "        if key in d:\n",
    "            d[key] += 1\n",
    "        else:\n",
    "            d[key] = 1\n",
    "val = d.values()\n",
    "maxval = max(val)\n",
    "for j in d.keys():\n",
    "    if d[j] == maxval:\n",
    "        print(j, maxval)\n",
    "#     day.append(row['Day'])\n",
    "# np_day = np.array(date)\n",
    "# print(np_day.unique)\n",
    "    "
   ]
  },
  {
   "cell_type": "code",
   "execution_count": 2,
   "id": "9c0b159b",
   "metadata": {},
   "outputs": [
    {
     "data": {
      "text/html": [
       "<style>.container { width:100% !important; }</style>"
      ],
      "text/plain": [
       "<IPython.core.display.HTML object>"
      ]
     },
     "metadata": {},
     "output_type": "display_data"
    }
   ],
   "source": [
    "from IPython.core.display import display,HTML\n",
    "display(HTML(\"<style>.container { width:100% !important; }</style>\"))"
   ]
  },
  {
   "cell_type": "code",
   "execution_count": null,
   "id": "156bd6e9",
   "metadata": {},
   "outputs": [],
   "source": [
    "\n",
    "\n",
    "\n",
    "\n"
   ]
  },
  {
   "cell_type": "code",
   "execution_count": null,
   "id": "91de936b",
   "metadata": {},
   "outputs": [],
   "source": []
  },
  {
   "cell_type": "code",
   "execution_count": 93,
   "id": "11ebd27e",
   "metadata": {},
   "outputs": [
    {
     "name": "stdout",
     "output_type": "stream",
     "text": [
      "[('jk', 21), ('mumbai', 13), ('delhi', 12)]\n"
     ]
    }
   ],
   "source": [
    "city = ['delhi','mumbai','jk']\n",
    "casualty = [12,13,21]\n",
    "freq = {}\n",
    "for i in range(len(city)):\n",
    "    if city[i] in freq:\n",
    "        freq[city[i]] = freq[city[i]] + 0\n",
    "    else:\n",
    "        freq[city[i]] = casualty[i]\n",
    "# print(freq)\n",
    "freq = sorted(freq.items(), key = lambda x:x[1], reverse = True) \n",
    "print(freq)\n",
    "# for i in freq\n"
   ]
  },
  {
   "cell_type": "code",
   "execution_count": 95,
   "id": "d12b9234",
   "metadata": {},
   "outputs": [
    {
     "name": "stdout",
     "output_type": "stream",
     "text": [
      "[1, 2]\n"
     ]
    }
   ],
   "source": [
    "a =[[1,2],[3,4]]\n",
    "print(a[0])"
   ]
  },
  {
   "cell_type": "code",
   "execution_count": null,
   "id": "fb37cd12",
   "metadata": {},
   "outputs": [],
   "source": []
  }
 ],
 "metadata": {
  "kernelspec": {
   "display_name": "Python 3",
   "language": "python",
   "name": "python3"
  },
  "language_info": {
   "codemirror_mode": {
    "name": "ipython",
    "version": 3
   },
   "file_extension": ".py",
   "mimetype": "text/x-python",
   "name": "python",
   "nbconvert_exporter": "python",
   "pygments_lexer": "ipython3",
   "version": "3.8.8"
  }
 },
 "nbformat": 4,
 "nbformat_minor": 5
}
