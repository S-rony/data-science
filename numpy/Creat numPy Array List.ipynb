{
 "cells": [
  {
   "cell_type": "code",
   "execution_count": 1,
   "id": "1fd1333f",
   "metadata": {},
   "outputs": [
    {
     "name": "stdout",
     "output_type": "stream",
     "text": [
      "[1 2 3]\n",
      "<class 'numpy.ndarray'>\n"
     ]
    }
   ],
   "source": [
    "import numpy as np\n",
    "a = [1,2,3]\n",
    "b = np.array(a)\n",
    "print(b)\n",
    "print(type(b))"
   ]
  },
  {
   "cell_type": "code",
   "execution_count": 3,
   "id": "7df2b323",
   "metadata": {},
   "outputs": [
    {
     "data": {
      "text/plain": [
       "array([1, 2, 3, 3, 3])"
      ]
     },
     "execution_count": 3,
     "metadata": {},
     "output_type": "execute_result"
    }
   ],
   "source": [
    "a = [1,2,3,'3',3.4]\n",
    "b = np.array(a,dtype = int)\n",
    "b"
   ]
  },
  {
   "cell_type": "code",
   "execution_count": 4,
   "id": "097be3af",
   "metadata": {},
   "outputs": [
    {
     "name": "stdout",
     "output_type": "stream",
     "text": [
      "['1' '2' '3' '4' '4.5' '1' '2' '3' '4' '4.5' '1' '2' '3' '4' '4.5']\n"
     ]
    }
   ],
   "source": [
    "a = [1,2,3,'4',4.5]\n",
    "b = np.array(a*3)\n",
    "print(b)"
   ]
  },
  {
   "cell_type": "code",
   "execution_count": 5,
   "id": "fc2cbec0",
   "metadata": {},
   "outputs": [
    {
     "data": {
      "text/plain": [
       "array([1, 1, 1])"
      ]
     },
     "execution_count": 5,
     "metadata": {},
     "output_type": "execute_result"
    }
   ],
   "source": [
    "b = np.ones(3,dtype = int)\n",
    "b"
   ]
  },
  {
   "cell_type": "code",
   "execution_count": 7,
   "id": "a5273be4",
   "metadata": {},
   "outputs": [
    {
     "data": {
      "text/plain": [
       "array([0, 0, 0])"
      ]
     },
     "execution_count": 7,
     "metadata": {},
     "output_type": "execute_result"
    }
   ],
   "source": [
    "b = np.zeros(3,dtype = int)\n",
    "b"
   ]
  },
  {
   "cell_type": "code",
   "execution_count": 9,
   "id": "4c6ce8ae",
   "metadata": {},
   "outputs": [
    {
     "data": {
      "text/plain": [
       "array([[1, 1, 1],\n",
       "       [1, 1, 1]])"
      ]
     },
     "execution_count": 9,
     "metadata": {},
     "output_type": "execute_result"
    }
   ],
   "source": [
    "b = np.ones((2,3),dtype = int)\n",
    "b"
   ]
  },
  {
   "cell_type": "code",
   "execution_count": 10,
   "id": "15189cc9",
   "metadata": {},
   "outputs": [
    {
     "data": {
      "text/plain": [
       "array([[0, 0, 0, 0],\n",
       "       [0, 0, 0, 0],\n",
       "       [0, 0, 0, 0]])"
      ]
     },
     "execution_count": 10,
     "metadata": {},
     "output_type": "execute_result"
    }
   ],
   "source": [
    "b = np.zeros((3,4),dtype = int)\n",
    "b"
   ]
  },
  {
   "cell_type": "code",
   "execution_count": 15,
   "id": "b6cb4da8",
   "metadata": {},
   "outputs": [
    {
     "data": {
      "text/plain": [
       "array([[5., 5., 5.],\n",
       "       [5., 5., 5.],\n",
       "       [5., 5., 5.]])"
      ]
     },
     "execution_count": 15,
     "metadata": {},
     "output_type": "execute_result"
    }
   ],
   "source": [
    "b = np.full((3,3),5,dtype = float)\n",
    "b"
   ]
  },
  {
   "cell_type": "code",
   "execution_count": 32,
   "id": "27098a5b",
   "metadata": {},
   "outputs": [
    {
     "data": {
      "text/plain": [
       "array([[         0, 1075052544,          0],\n",
       "       [1075052544,          0, 1075052544]])"
      ]
     },
     "execution_count": 32,
     "metadata": {},
     "output_type": "execute_result"
    }
   ],
   "source": [
    "h= np.empty([2, 3,],dtype = int,order= 'C')\n",
    "h"
   ]
  },
  {
   "cell_type": "code",
   "execution_count": 36,
   "id": "65be70a0",
   "metadata": {},
   "outputs": [
    {
     "data": {
      "text/plain": [
       "array([0, 1, 2, 3, 4, 5, 6, 7, 8, 9])"
      ]
     },
     "execution_count": 36,
     "metadata": {},
     "output_type": "execute_result"
    }
   ],
   "source": [
    "b = np.arange(10)\n",
    "b"
   ]
  },
  {
   "cell_type": "code",
   "execution_count": 40,
   "id": "cc515014",
   "metadata": {},
   "outputs": [
    {
     "name": "stdout",
     "output_type": "stream",
     "text": [
      "0.16326530612244916\n",
      "0.16326530612244916\n"
     ]
    }
   ],
   "source": [
    "b = np.linspace(2,10)\n",
    "b\n",
    "print(b[3]-b[2])\n",
    "print(b[9]-b[8])"
   ]
  },
  {
   "cell_type": "code",
   "execution_count": 43,
   "id": "abfb1645",
   "metadata": {},
   "outputs": [
    {
     "data": {
      "text/plain": [
       "array([2, 3, 5, 6, 8])"
      ]
     },
     "execution_count": 43,
     "metadata": {},
     "output_type": "execute_result"
    }
   ],
   "source": [
    "b = np.linspace(2,10,5,dtype = int,endpoint = False)\n",
    "b"
   ]
  },
  {
   "cell_type": "code",
   "execution_count": 45,
   "id": "3fbec92e",
   "metadata": {},
   "outputs": [
    {
     "data": {
      "text/plain": [
       "array([[1., 0., 0.],\n",
       "       [0., 1., 0.],\n",
       "       [0., 0., 1.]])"
      ]
     },
     "execution_count": 45,
     "metadata": {},
     "output_type": "execute_result"
    }
   ],
   "source": [
    "b = np.identity(3)\n",
    "b"
   ]
  },
  {
   "cell_type": "code",
   "execution_count": 48,
   "id": "edbe89ae",
   "metadata": {},
   "outputs": [
    {
     "data": {
      "text/plain": [
       "array([[1., 0., 0., 0.],\n",
       "       [0., 1., 0., 0.],\n",
       "       [0., 0., 1., 0.]])"
      ]
     },
     "execution_count": 48,
     "metadata": {},
     "output_type": "execute_result"
    }
   ],
   "source": [
    "b= np.eye(3,4)\n",
    "b"
   ]
  },
  {
   "cell_type": "code",
   "execution_count": 52,
   "id": "4191fef0",
   "metadata": {},
   "outputs": [
    {
     "data": {
      "text/plain": [
       "array([0.34916154, 0.48460036, 0.5348682 , 0.6445184 ])"
      ]
     },
     "execution_count": 52,
     "metadata": {},
     "output_type": "execute_result"
    }
   ],
   "source": [
    "b=np.random.rand(4)\n",
    "b"
   ]
  },
  {
   "cell_type": "code",
   "execution_count": 54,
   "id": "92b1c5cc",
   "metadata": {},
   "outputs": [
    {
     "data": {
      "text/plain": [
       "array([[0.46257652, 0.81219141, 0.07106817, 0.85754694],\n",
       "       [0.70566102, 0.86717663, 0.08696582, 0.01494312],\n",
       "       [0.87970369, 0.74507837, 0.73357007, 0.74625639]])"
      ]
     },
     "execution_count": 54,
     "metadata": {},
     "output_type": "execute_result"
    }
   ],
   "source": [
    "\n",
    "b=np.random.rand(3,4)\n",
    "b"
   ]
  },
  {
   "cell_type": "code",
   "execution_count": 55,
   "id": "0bd52558",
   "metadata": {},
   "outputs": [
    {
     "data": {
      "text/plain": [
       "array([1.53454632, 5.41129435, 6.79920355, 4.33326255, 9.07282701,\n",
       "       4.42237572, 8.88548786, 8.72971613, 4.39790793, 3.220751  ])"
      ]
     },
     "execution_count": 55,
     "metadata": {},
     "output_type": "execute_result"
    }
   ],
   "source": [
    "b=np.random.rand(10)*10\n",
    "b"
   ]
  },
  {
   "cell_type": "code",
   "execution_count": 60,
   "id": "5647979c",
   "metadata": {},
   "outputs": [
    {
     "data": {
      "text/plain": [
       "array([0, 1, 0, 0, 1, 1, 1, 1, 1, 1])"
      ]
     },
     "execution_count": 60,
     "metadata": {},
     "output_type": "execute_result"
    }
   ],
   "source": [
    "b= np.random.randint( 2, size=10, dtype=int)\n",
    "b"
   ]
  },
  {
   "cell_type": "markdown",
   "id": "79740e13",
   "metadata": {},
   "source": [
    "NumPy 2D array"
   ]
  },
  {
   "cell_type": "code",
   "execution_count": 6,
   "id": "00ae32e9",
   "metadata": {},
   "outputs": [
    {
     "data": {
      "text/plain": [
       "array([[1, 2, 3],\n",
       "       [4, 5, 6],\n",
       "       [7, 8, 9]])"
      ]
     },
     "execution_count": 6,
     "metadata": {},
     "output_type": "execute_result"
    }
   ],
   "source": [
    "import numpy as np\n",
    "a = np.arange(1,10).reshape(3,3)\n",
    "a"
   ]
  },
  {
   "cell_type": "markdown",
   "id": "e234c389",
   "metadata": {},
   "source": [
    "Numpy 0s and 1s"
   ]
  },
  {
   "cell_type": "code",
   "execution_count": 1,
   "id": "07808c36",
   "metadata": {},
   "outputs": [
    {
     "name": "stdout",
     "output_type": "stream",
     "text": [
      "0 0 0 0 1 0 0 0 0 0 "
     ]
    }
   ],
   "source": [
    "import numpy as np\n",
    "a = [0,0,0,0,0,0,0,0,0,0]\n",
    "a[4] = 1\n",
    "b = np.array(a)\n",
    "for i in b:\n",
    "    print(i,end=' ')"
   ]
  },
  {
   "cell_type": "markdown",
   "id": "4706d735",
   "metadata": {},
   "source": [
    "NumPy Inclusive "
   ]
  },
  {
   "cell_type": "code",
   "execution_count": 5,
   "id": "7400fb01",
   "metadata": {},
   "outputs": [
    {
     "name": "stdout",
     "output_type": "stream",
     "text": [
      "9.0 9.816326530612244 10.63265306122449 11.448979591836736 12.26530612244898 13.081632653061224 13.89795918367347 14.714285714285715 15.53061224489796 16.346938775510203 17.163265306122447 17.979591836734695 18.79591836734694 19.612244897959183 20.42857142857143 21.244897959183675 22.06122448979592 22.877551020408163 23.693877551020407 24.510204081632654 25.3265306122449 26.142857142857142 26.95918367346939 27.775510204081634 28.591836734693878 29.408163265306122 30.224489795918366 31.040816326530614 31.857142857142858 32.673469387755105 33.48979591836735 34.30612244897959 35.12244897959184 35.93877551020408 36.755102040816325 37.57142857142857 38.38775510204081 39.20408163265306 40.02040816326531 40.83673469387755 41.6530612244898 42.46938775510204 43.285714285714285 44.10204081632653 44.91836734693878 45.734693877551024 46.55102040816327 47.36734693877551 48.183673469387756 49.0 "
     ]
    }
   ],
   "source": [
    "import numpy as np\n",
    "a = np.linspace(9,49)\n",
    "for i in a:\n",
    "    print(i,end=' ')"
   ]
  },
  {
   "cell_type": "code",
   "execution_count": 7,
   "id": "490adc33",
   "metadata": {},
   "outputs": [
    {
     "data": {
      "text/plain": [
       "array([[1, 0, 0, 0, 0, 0],\n",
       "       [0, 1, 0, 0, 0, 0],\n",
       "       [0, 0, 1, 0, 0, 0],\n",
       "       [0, 0, 0, 1, 0, 0],\n",
       "       [0, 0, 0, 0, 1, 0]])"
      ]
     },
     "execution_count": 7,
     "metadata": {},
     "output_type": "execute_result"
    }
   ],
   "source": [
    "import numpy as np\n",
    "a = np.eye(5,6,dtype= int)\n",
    "a"
   ]
  },
  {
   "cell_type": "code",
   "execution_count": 12,
   "id": "b33edfbb",
   "metadata": {},
   "outputs": [
    {
     "name": "stdout",
     "output_type": "stream",
     "text": [
      "0.56\n",
      "1.11\n",
      "1.67\n",
      "2.22\n",
      "2.78\n",
      "3.33\n",
      "3.89\n",
      "4.44\n"
     ]
    }
   ],
   "source": [
    "import numpy as np\n",
    "a = np.linspace(0,5,num=10)\n",
    "for i in a:\n",
    "    if i == 0 or i == 5:\n",
    "        continue\n",
    "    else:\n",
    "        print(round(i,2))"
   ]
  },
  {
   "cell_type": "markdown",
   "id": "58f0f33f",
   "metadata": {},
   "source": [
    "Print Elements"
   ]
  },
  {
   "cell_type": "code",
   "execution_count": 24,
   "id": "3c04e884",
   "metadata": {},
   "outputs": [
    {
     "name": "stdout",
     "output_type": "stream",
     "text": [
      "[[ 1  2  3  4  5]\n",
      " [ 6  7  8  9 10]\n",
      " [11 12 13 14 15]\n",
      " [16 17 18 19 20]]\n",
      "\n",
      "11 12 13 \n",
      "\n",
      "9\n",
      "14\n",
      "19\n",
      "\n",
      "[11 12 13 14 15]\n",
      "[16 17 18 19 20]\n",
      "\n",
      "[7 8]\n",
      "[12 13]\n"
     ]
    }
   ],
   "source": [
    "import numpy as np\n",
    "input_ = np.arange(1,21,1)\n",
    "input_= input_.reshape(4,5)\n",
    "print(input_)\n",
    "print()\n",
    "for i in input_[2,0:3]:\n",
    "    print(i,end=\" \")\n",
    "print()\n",
    "print()\n",
    "for i in input_[1:4,3]:\n",
    "    print(i)\n",
    "print()\n",
    "for i in input_[2:4,0:5]:\n",
    "    print(i)\n",
    "print()\n",
    "for i in input_[1:3,1:3]:\n",
    "    print(i)\n"
   ]
  },
  {
   "cell_type": "markdown",
   "id": "19ebce09",
   "metadata": {},
   "source": [
    "Non-Zero element\n",
    "---------------------------\n",
    "Find indices of non-zero elements from the array [1,2,0,0,4,0] ?\n",
    "Print the index of non-zero elements."
   ]
  },
  {
   "cell_type": "code",
   "execution_count": 31,
   "id": "35023d44",
   "metadata": {},
   "outputs": [
    {
     "name": "stdout",
     "output_type": "stream",
     "text": [
      "0 1 4 "
     ]
    }
   ],
   "source": [
    "import numpy as np\n",
    "a = np.array([1,2,0,0,4,0])\n",
    "a= np.where(a!=0)\n",
    "for i in a[0]:\n",
    "    print(i,end=' ')"
   ]
  },
  {
   "cell_type": "markdown",
   "id": "2a35517f",
   "metadata": {},
   "source": [
    "Multiples of 3\n",
    "-------------------\n",
    "Given an integer array of size 10. Print the index of elements which are multiple of 3.\n",
    "Note: Generate the following array\n",
    "array([ 1,  3,  5,  7,  9, 11, 13, 15, 17, 19])\n",
    "Print the index of elements.\n",
    "\n",
    "Output Format :\n",
    "index1 index2 index3 ... "
   ]
  },
  {
   "cell_type": "code",
   "execution_count": 39,
   "id": "b310b60d",
   "metadata": {},
   "outputs": [
    {
     "name": "stdout",
     "output_type": "stream",
     "text": [
      "1 4 7 "
     ]
    }
   ],
   "source": [
    "import numpy as np\n",
    "a = np.array([1,3,5,7,9,11,13,15,17,19])\n",
    "inp = np.where(a%3 == 0)\n",
    "for i in inp[0]:\n",
    "    print(i,end=' ')"
   ]
  },
  {
   "cell_type": "code",
   "execution_count": 59,
   "id": "7a171afc",
   "metadata": {},
   "outputs": [
    {
     "data": {
      "text/plain": [
       "array([-1,  2, -1,  4, -1,  6, -1,  8, -1, 10])"
      ]
     },
     "execution_count": 59,
     "metadata": {},
     "output_type": "execute_result"
    }
   ],
   "source": [
    "import numpy as np\n",
    "a = np.arange(1,11,1)\n",
    "# print(a)\n",
    "i = np.where(a%2!=0,-1,a)\n",
    "i\n"
   ]
  },
  {
   "cell_type": "code",
   "execution_count": 63,
   "id": "eb38cbf8",
   "metadata": {},
   "outputs": [
    {
     "data": {
      "text/plain": [
       "array([11,  2, 13,  4, 15,  6,  0,  8, 19])"
      ]
     },
     "execution_count": 63,
     "metadata": {},
     "output_type": "execute_result"
    }
   ],
   "source": [
    "import numpy as np\n",
    "a = np.array([11,2,13,4,15,6,27,8,19])\n",
    "maxElement = np.max(a)\n",
    "i = np.where(maxElement == a,0,a)\n",
    "i"
   ]
  },
  {
   "cell_type": "code",
   "execution_count": 68,
   "id": "81f92ad7",
   "metadata": {},
   "outputs": [
    {
     "data": {
      "text/plain": [
       "array([ 1,  2, -3, -4, -5, -6, -7, -8,  9, 10])"
      ]
     },
     "execution_count": 68,
     "metadata": {},
     "output_type": "execute_result"
    }
   ],
   "source": [
    "import numpy as np\n",
    "a = np.arange(1,11,1)\n",
    "i = np.where((a>2) & (a<9), a*-1, a)\n",
    "i"
   ]
  },
  {
   "cell_type": "markdown",
   "id": "4fe09e90",
   "metadata": {},
   "source": [
    "Height"
   ]
  },
  {
   "cell_type": "code",
   "execution_count": 80,
   "id": "d4dc5ada",
   "metadata": {},
   "outputs": [
    {
     "name": "stdout",
     "output_type": "stream",
     "text": [
      "15 156\n",
      "17 144\n",
      "19 180\n",
      "20 162\n",
      "14 152\n",
      "21 157\n",
      "16 154\n",
      "19 155\n",
      "13 151\n",
      "20 150\n",
      "22 158\n"
     ]
    }
   ],
   "source": [
    "## Open and read data file as specified in the question\n",
    "## Print the required output in given format\n",
    "import numpy as np\n",
    "age=np.array([15,17,19,20,14,21,16,19,13,20,22,23,21,16,18,19,20,15,17,18])\n",
    "height=np.array([156,144,180,162,152,157,154,155,151,150,158,179,126,182,183,154,159,160,172,149])\n",
    "k = []\n",
    "l = []\n",
    "i = 0\n",
    "h = np.where(height > 155)\n",
    "for i in range(len(h[0])):\n",
    "    print(age[i], height[i])\n",
    "\n"
   ]
  },
  {
   "cell_type": "code",
   "execution_count": null,
   "id": "21f2aa62",
   "metadata": {},
   "outputs": [],
   "source": []
  }
 ],
 "metadata": {
  "kernelspec": {
   "display_name": "Python 3",
   "language": "python",
   "name": "python3"
  },
  "language_info": {
   "codemirror_mode": {
    "name": "ipython",
    "version": 3
   },
   "file_extension": ".py",
   "mimetype": "text/x-python",
   "name": "python",
   "nbconvert_exporter": "python",
   "pygments_lexer": "ipython3",
   "version": "3.8.8"
  }
 },
 "nbformat": 4,
 "nbformat_minor": 5
}
